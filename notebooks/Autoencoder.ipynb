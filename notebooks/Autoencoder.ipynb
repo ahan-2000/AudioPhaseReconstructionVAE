{
 "cells": [
  {
   "cell_type": "code",
   "execution_count": 132,
   "metadata": {},
   "outputs": [],
   "source": [
    "import numpy as np\n",
    "import torch\n",
    "import torchvision\n",
    "import torch.nn  as nn\n",
    "import torchvision.transforms as transforms\n",
    "import matplotlib.pyplot as plt"
   ]
  },
  {
   "cell_type": "code",
   "execution_count": 2,
   "metadata": {},
   "outputs": [],
   "source": [
    "# Hyperparameters\n",
    "batch_size = 64\n",
    "num_workers = 4"
   ]
  },
  {
   "cell_type": "code",
   "execution_count": 3,
   "metadata": {},
   "outputs": [],
   "source": [
    "# image transformation \n",
    "transform = transforms.Compose([\n",
    "    transforms.ToTensor(),\n",
    "    transforms.Normalize((0.1307,), (0.3801,))\n",
    "])"
   ]
  },
  {
   "cell_type": "code",
   "execution_count": 70,
   "metadata": {},
   "outputs": [
    {
     "name": "stdout",
     "output_type": "stream",
     "text": [
      "Downloading https://www.cs.toronto.edu/~kriz/cifar-10-python.tar.gz to ./data/cifar-10-python.tar.gz\n"
     ]
    },
    {
     "name": "stderr",
     "output_type": "stream",
     "text": [
      "100.0%\n"
     ]
    },
    {
     "name": "stdout",
     "output_type": "stream",
     "text": [
      "Extracting ./data/cifar-10-python.tar.gz to ./data\n",
      "Files already downloaded and verified\n"
     ]
    }
   ],
   "source": [
    "# Download Dataset MNIST\n",
    "\n",
    "train_set = torchvision.datasets.MNIST(\n",
    "    root='./data',\n",
    "    train=True,\n",
    "    download=True,\n",
    "    transform=transform\n",
    ")\n",
    "\n",
    "test_set = torchvision.datasets.MNIST(\n",
    "    root='./data',\n",
    "    train=False,\n",
    "    download=True,\n",
    "    transform=transform\n",
    ")\n",
    "\n",
    "# Download Dataset CIFAR10\n",
    "\n",
    "train_set = torchvision.datasets.CIFAR10(\n",
    "    root='./data',\n",
    "    train=True,\n",
    "    download=True,\n",
    "    transform=transform\n",
    ")\n",
    "\n",
    "test_set = torchvision.datasets.CIFAR10(\n",
    "    root='./data',\n",
    "    train=False,\n",
    "    download=True,\n",
    "    transform=transform\n",
    ")\n"
   ]
  },
  {
   "cell_type": "code",
   "execution_count": null,
   "metadata": {},
   "outputs": [],
   "source": []
  },
  {
   "cell_type": "code",
   "execution_count": 71,
   "metadata": {},
   "outputs": [],
   "source": [
    "# DataLoader\n",
    "# Create a DataLoader for the training dataset\n",
    "train_loader = torch.utils.data.DataLoader(\n",
    "    train_set,\n",
    "    batch_size=batch_size,\n",
    "    shuffle=True,\n",
    "    num_workers=num_workers\n",
    ")\n",
    "\n",
    "# Create a DataLoader for the testing dataset\n",
    "test_loader = torch.utils.data.DataLoader(\n",
    "    train_set,\n",
    "    batch_size=batch_size,\n",
    "    shuffle=False,\n",
    "    num_workers=num_workers\n",
    ")"
   ]
  },
  {
   "cell_type": "code",
   "execution_count": null,
   "metadata": {},
   "outputs": [],
   "source": []
  },
  {
   "cell_type": "code",
   "execution_count": 74,
   "metadata": {},
   "outputs": [
    {
     "name": "stdout",
     "output_type": "stream",
     "text": [
      "torch.Size([64, 3, 32, 32])\n",
      "torch.Size([64])\n"
     ]
    }
   ],
   "source": [
    "# Testing of the data pipeline\n",
    "\n",
    "batch = next(iter(train_loader))\n",
    "\n",
    "print(batch[0].shape) # one batch 64 img, 1 channel, 28x28 pixels\n",
    "print(batch[1].shape) # one label vector\n",
    "\n",
    "# for X, y in test_loader:\n",
    "#     print(f\"Shape of X [N, C, H, W]: {X.shape}\")\n",
    "#     print(f\"Shape of y: {y.shape} {y.dtype}\")\n",
    "#     break\n"
   ]
  },
  {
   "cell_type": "code",
   "execution_count": 77,
   "metadata": {},
   "outputs": [],
   "source": [
    "# Encoder Model\n",
    "\n",
    "class AutoEncoder(nn.Module):\n",
    "    def __init__(self,input_dim=3072,hidden_dim=512,output_dim=4):\n",
    "        super(AutoEncoder, self).__init__()\n",
    "\n",
    "        self.encoder = nn.Sequential(\n",
    "            nn.Linear(input_dim,hidden_dim),\n",
    "            nn.ReLU(),\n",
    "            nn.Linear(hidden_dim, int(hidden_dim/2)), # 128/64\n",
    "            nn.ReLU(),\n",
    "            nn.Linear(int(hidden_dim/2),int(hidden_dim/4)), #64/32\n",
    "            nn.ReLU(),\n",
    "            nn.Linear(int(hidden_dim/4),int(hidden_dim/8)), #32/16\n",
    "            nn.ReLU(),\n",
    "            nn.Linear(int(hidden_dim/8),int(hidden_dim/16)), #16/8\n",
    "            nn.ReLU(),\n",
    "            nn.Linear(int(hidden_dim/16),output_dim) # 8/4\n",
    "        )\n",
    "\n",
    "        self.decoder = nn.Sequential(\n",
    "            nn.Linear(output_dim,int(hidden_dim/16)),\n",
    "            nn.ReLU(),\n",
    "            nn.Linear(int(hidden_dim/16),int(hidden_dim/8)),\n",
    "            nn.ReLU(),\n",
    "            nn.Linear(int(hidden_dim/8),int(hidden_dim/4)),\n",
    "            nn.ReLU(),\n",
    "            nn.Linear(int(hidden_dim/4),int(hidden_dim/2)),\n",
    "            nn.ReLU(),\n",
    "            nn.Linear(int(hidden_dim/2),hidden_dim),\n",
    "            nn.ReLU(),\n",
    "            nn.Linear(hidden_dim,input_dim),\n",
    "            nn.Sigmoid()\n",
    "        )\n",
    "\n",
    "\n",
    "    def forward(self, x):\n",
    "        encoded = self.encoder(x)\n",
    "        decoded = self.decoder(encoded)\n",
    "        return decoded\n"
   ]
  },
  {
   "cell_type": "code",
   "execution_count": 78,
   "metadata": {},
   "outputs": [],
   "source": [
    "# Model, Optimiser, Loss Function , Hypers\n",
    "\n",
    "lr = 1e-3\n",
    "batch_size = 64\n",
    "epochs = 20\n",
    "\n",
    "\n",
    "AutoEnc = AutoEncoder(input_dim=3072, hidden_dim=512, output_dim=4)\n",
    "optim = torch.optim.Adam(AutoEnc.parameters(),lr=lr, weight_decay=1e-7)\n",
    "loss_fn = torch.nn.MSELoss()"
   ]
  },
  {
   "cell_type": "code",
   "execution_count": 86,
   "metadata": {},
   "outputs": [
    {
     "name": "stderr",
     "output_type": "stream",
     "text": [
      "Clipping input data to the valid range for imshow with RGB data ([0..1] for floats or [0..255] for integers).\n"
     ]
    },
    {
     "data": {
      "text/plain": [
       "<matplotlib.image.AxesImage at 0x151393f10>"
      ]
     },
     "execution_count": 86,
     "metadata": {},
     "output_type": "execute_result"
    },
    {
     "data": {
      "image/png": "[encoded data removed]",
      "text/plain": [
       "<Figure size 640x480 with 1 Axes>"
      ]
     },
     "metadata": {},
     "output_type": "display_data"
    }
   ],
   "source": [
    "x = torch.randn(1,3072)\n",
    "\n",
    "plt.imshow(x.reshape(3,32,32).permute(1, 2, 0).detach().numpy())"
   ]
  },
  {
   "cell_type": "code",
   "execution_count": 88,
   "metadata": {},
   "outputs": [
    {
     "data": {
      "text/plain": [
       "<matplotlib.image.AxesImage at 0x1317dc4c0>"
      ]
     },
     "execution_count": 88,
     "metadata": {},
     "output_type": "execute_result"
    },
    {
     "data": {
      "image/png": "[encoded data removed]",
      "text/plain": [
       "<Figure size 640x480 with 1 Axes>"
      ]
     },
     "metadata": {},
     "output_type": "display_data"
    }
   ],
   "source": [
    "# Dimension Testing\n",
    "\n",
    "out = AutoEnc(x)\n",
    "\n",
    "out.shape\n",
    "# https://stackoverflow.com/a/55196345/18071854\n",
    "plt.imshow(out.reshape(3,32,32).permute(1, 2, 0).detach().numpy())"
   ]
  },
  {
   "cell_type": "code",
   "execution_count": 89,
   "metadata": {},
   "outputs": [
    {
     "name": "stdout",
     "output_type": "stream",
     "text": [
      "0\n",
      "loss: 0.667887  [   64/  782]\n",
      "loss: 0.361606  [ 6464/  782]\n",
      "loss: 0.336010  [12864/  782]\n",
      "loss: 0.358831  [19264/  782]\n",
      "loss: 0.362822  [25664/  782]\n",
      "loss: 0.346700  [32064/  782]\n",
      "loss: 0.388967  [38464/  782]\n",
      "loss: 0.352257  [44864/  782]\n",
      "1\n",
      "loss: 0.284596  [   64/  782]\n",
      "loss: 0.351445  [ 6464/  782]\n",
      "loss: 0.287675  [12864/  782]\n",
      "loss: 0.304216  [19264/  782]\n",
      "loss: 0.339203  [25664/  782]\n",
      "loss: 0.333607  [32064/  782]\n",
      "loss: 0.303985  [38464/  782]\n",
      "loss: 0.331976  [44864/  782]\n",
      "2\n",
      "loss: 0.332517  [   64/  782]\n",
      "loss: 0.279538  [ 6464/  782]\n",
      "loss: 0.322343  [12864/  782]\n",
      "loss: 0.332359  [19264/  782]\n",
      "loss: 0.304694  [25664/  782]\n",
      "loss: 0.288356  [32064/  782]\n",
      "loss: 0.283217  [38464/  782]\n",
      "loss: 0.269207  [44864/  782]\n",
      "3\n",
      "loss: 0.280996  [   64/  782]\n",
      "loss: 0.329573  [ 6464/  782]\n",
      "loss: 0.327647  [12864/  782]\n",
      "loss: 0.304230  [19264/  782]\n",
      "loss: 0.269932  [25664/  782]\n",
      "loss: 0.294453  [32064/  782]\n",
      "loss: 0.271006  [38464/  782]\n",
      "loss: 0.293122  [44864/  782]\n",
      "4\n",
      "loss: 0.324534  [   64/  782]\n",
      "loss: 0.281413  [ 6464/  782]\n",
      "loss: 0.281294  [12864/  782]\n",
      "loss: 0.273638  [19264/  782]\n",
      "loss: 0.296082  [25664/  782]\n",
      "loss: 0.308149  [32064/  782]\n",
      "loss: 0.296410  [38464/  782]\n",
      "loss: 0.273435  [44864/  782]\n",
      "5\n",
      "loss: 0.266247  [   64/  782]\n",
      "loss: 0.241465  [ 6464/  782]\n",
      "loss: 0.273671  [12864/  782]\n",
      "loss: 0.272295  [19264/  782]\n",
      "loss: 0.301268  [25664/  782]\n",
      "loss: 0.311464  [32064/  782]\n",
      "loss: 0.294737  [38464/  782]\n",
      "loss: 0.260315  [44864/  782]\n",
      "6\n",
      "loss: 0.296948  [   64/  782]\n",
      "loss: 0.321464  [ 6464/  782]\n",
      "loss: 0.295741  [12864/  782]\n",
      "loss: 0.266591  [19264/  782]\n",
      "loss: 0.281128  [25664/  782]\n",
      "loss: 0.279815  [32064/  782]\n",
      "loss: 0.280933  [38464/  782]\n",
      "loss: 0.310548  [44864/  782]\n",
      "7\n",
      "loss: 0.327001  [   64/  782]\n",
      "loss: 0.282766  [ 6464/  782]\n",
      "loss: 0.308264  [12864/  782]\n",
      "loss: 0.318024  [19264/  782]\n",
      "loss: 0.315499  [25664/  782]\n",
      "loss: 0.296507  [32064/  782]\n",
      "loss: 0.334301  [38464/  782]\n",
      "loss: 0.315808  [44864/  782]\n",
      "8\n",
      "loss: 0.293748  [   64/  782]\n",
      "loss: 0.331774  [ 6464/  782]\n",
      "loss: 0.284046  [12864/  782]\n",
      "loss: 0.322644  [19264/  782]\n",
      "loss: 0.309238  [25664/  782]\n",
      "loss: 0.287955  [32064/  782]\n",
      "loss: 0.279906  [38464/  782]\n",
      "loss: 0.341466  [44864/  782]\n",
      "9\n",
      "loss: 0.250500  [   64/  782]\n",
      "loss: 0.307198  [ 6464/  782]\n",
      "loss: 0.270423  [12864/  782]\n",
      "loss: 0.251528  [19264/  782]\n",
      "loss: 0.273308  [25664/  782]\n",
      "loss: 0.301382  [32064/  782]\n",
      "loss: 0.288844  [38464/  782]\n",
      "loss: 0.270266  [44864/  782]\n",
      "10\n",
      "loss: 0.256757  [   64/  782]\n",
      "loss: 0.239682  [ 6464/  782]\n",
      "loss: 0.295151  [12864/  782]\n",
      "loss: 0.318681  [19264/  782]\n",
      "loss: 0.278540  [25664/  782]\n",
      "loss: 0.254247  [32064/  782]\n",
      "loss: 0.251902  [38464/  782]\n",
      "loss: 0.300323  [44864/  782]\n",
      "11\n",
      "loss: 0.263567  [   64/  782]\n",
      "loss: 0.266047  [ 6464/  782]\n",
      "loss: 0.302295  [12864/  782]\n",
      "loss: 0.269773  [19264/  782]\n",
      "loss: 0.274634  [25664/  782]\n",
      "loss: 0.282060  [32064/  782]\n",
      "loss: 0.300953  [38464/  782]\n",
      "loss: 0.317545  [44864/  782]\n",
      "12\n",
      "loss: 0.286055  [   64/  782]\n",
      "loss: 0.276792  [ 6464/  782]\n",
      "loss: 0.335067  [12864/  782]\n",
      "loss: 0.303554  [19264/  782]\n",
      "loss: 0.259968  [25664/  782]\n",
      "loss: 0.283117  [32064/  782]\n",
      "loss: 0.283663  [38464/  782]\n",
      "loss: 0.299723  [44864/  782]\n",
      "13\n",
      "loss: 0.294737  [   64/  782]\n",
      "loss: 0.261809  [ 6464/  782]\n",
      "loss: 0.265566  [12864/  782]\n",
      "loss: 0.297892  [19264/  782]\n",
      "loss: 0.284662  [25664/  782]\n",
      "loss: 0.269296  [32064/  782]\n",
      "loss: 0.331538  [38464/  782]\n",
      "loss: 0.309980  [44864/  782]\n",
      "14\n",
      "loss: 0.249847  [   64/  782]\n",
      "loss: 0.280294  [ 6464/  782]\n",
      "loss: 0.277257  [12864/  782]\n",
      "loss: 0.325210  [19264/  782]\n",
      "loss: 0.338699  [25664/  782]\n",
      "loss: 0.310324  [32064/  782]\n",
      "loss: 0.271594  [38464/  782]\n",
      "loss: 0.338222  [44864/  782]\n",
      "15\n",
      "loss: 0.286258  [   64/  782]\n",
      "loss: 0.260934  [ 6464/  782]\n",
      "loss: 0.272967  [12864/  782]\n",
      "loss: 0.261190  [19264/  782]\n",
      "loss: 0.320570  [25664/  782]\n",
      "loss: 0.262851  [32064/  782]\n",
      "loss: 0.278382  [38464/  782]\n",
      "loss: 0.289555  [44864/  782]\n",
      "16\n",
      "loss: 0.286481  [   64/  782]\n",
      "loss: 0.282902  [ 6464/  782]\n",
      "loss: 0.339568  [12864/  782]\n",
      "loss: 0.264497  [19264/  782]\n",
      "loss: 0.270634  [25664/  782]\n",
      "loss: 0.304065  [32064/  782]\n",
      "loss: 0.235652  [38464/  782]\n",
      "loss: 0.289925  [44864/  782]\n",
      "17\n",
      "loss: 0.324784  [   64/  782]\n",
      "loss: 0.311886  [ 6464/  782]\n",
      "loss: 0.250119  [12864/  782]\n",
      "loss: 0.313747  [19264/  782]\n",
      "loss: 0.260852  [25664/  782]\n",
      "loss: 0.296751  [32064/  782]\n",
      "loss: 0.281163  [38464/  782]\n",
      "loss: 0.311462  [44864/  782]\n",
      "18\n",
      "loss: 0.248875  [   64/  782]\n",
      "loss: 0.337814  [ 6464/  782]\n",
      "loss: 0.243655  [12864/  782]\n",
      "loss: 0.280299  [19264/  782]\n",
      "loss: 0.340957  [25664/  782]\n",
      "loss: 0.288710  [32064/  782]\n",
      "loss: 0.253300  [38464/  782]\n",
      "loss: 0.314462  [44864/  782]\n",
      "19\n",
      "loss: 0.321009  [   64/  782]\n",
      "loss: 0.332680  [ 6464/  782]\n",
      "loss: 0.300527  [12864/  782]\n",
      "loss: 0.274590  [19264/  782]\n",
      "loss: 0.305496  [25664/  782]\n",
      "loss: 0.263601  [32064/  782]\n",
      "loss: 0.317531  [38464/  782]\n",
      "loss: 0.253599  [44864/  782]\n"
     ]
    }
   ],
   "source": [
    "# Training Loop\n",
    "losses = []\n",
    "outputs = []\n",
    "epoch = 1\n",
    "\n",
    "size = len(train_loader)\n",
    "\n",
    "\n",
    "for epoch in range(epochs):\n",
    "    for idx, (image, label) in enumerate(train_loader):\n",
    "        \n",
    "        # Flattening the images to (batch_size, 784)\n",
    "        image = image.reshape(-1,3*32*32)\n",
    "        \n",
    "        # Reconstruction of the Autoencoder\n",
    "        reconstrution = AutoEnc(image)\n",
    "\n",
    "        # Loss function\n",
    "        calculated_loss = loss_fn(reconstrution, image)\n",
    "        losses.append(calculated_loss)\n",
    "\n",
    "        # Optimization\n",
    "        optim.zero_grad()\n",
    "        calculated_loss.backward()\n",
    "\n",
    "        optim.step()\n",
    "\n",
    "        if idx % 100 == 0:\n",
    "            loss, current = calculated_loss.item(), (idx + 1) * len(train_loader.dataset)\n",
    "            print(f\"loss: {loss:>7f}  [{current:>5d}/{size:>5d}]\")\n",
    "\n",
    "    outputs.append((epochs, image, reconstrution))"
   ]
  },
  {
   "cell_type": "code",
   "execution_count": 142,
   "metadata": {},
   "outputs": [
    {
     "name": "stderr",
     "output_type": "stream",
     "text": [
      "Clipping input data to the valid range for imshow with RGB data ([0..1] for floats or [0..255] for integers).\n"
     ]
    },
    {
     "data": {
      "text/plain": [
       "<matplotlib.image.AxesImage at 0x132b848b0>"
      ]
     },
     "execution_count": 142,
     "metadata": {},
     "output_type": "execute_result"
    },
    {
     "data": {
      "image/png": "[encoded data removed]",
      "text/plain": [
       "<Figure size 640x480 with 1 Axes>"
      ]
     },
     "metadata": {},
     "output_type": "display_data"
    }
   ],
   "source": [
    "images = outputs[1][1].view(16, 3, 32, 32)\n",
    "# plt.imshow(images[5,0,:,:])\n",
    "\n",
    "# plt.imshow(images[5,:,:,:].permute(0,2,3,1))\n",
    "\n",
    "img = images[9,:,:,:]\n",
    "\n",
    "img_permutated = img.permute(1,2,0)\n",
    "\n",
    "plt.imshow(img_permutated)\n"
   ]
  },
  {
   "cell_type": "code",
   "execution_count": 137,
   "metadata": {},
   "outputs": [],
   "source": [
    "xs = np.arange(0,len(losses))\n",
    "\n",
    "ys = [y.detach().numpy() for y in losses]"
   ]
  },
  {
   "cell_type": "code",
   "execution_count": 138,
   "metadata": {},
   "outputs": [
    {
     "data": {
      "text/plain": [
       "[<matplotlib.lines.Line2D at 0x1510e2440>]"
      ]
     },
     "execution_count": 138,
     "metadata": {},
     "output_type": "execute_result"
    },
    {
     "data": {
      "image/png": "[encoded data removed]",
      "text/plain": [
       "<Figure size 640x480 with 1 Axes>"
      ]
     },
     "metadata": {},
     "output_type": "display_data"
    }
   ],
   "source": [
    "plt.plot(xs,ys)"
   ]
  },
  {
   "cell_type": "code",
   "execution_count": null,
   "metadata": {},
   "outputs": [],
   "source": []
  }
 ],
 "metadata": {
  "kernelspec": {
   "display_name": ".venv",
   "language": "python",
   "name": "python3"
  },
  "language_info": {
   "codemirror_mode": {
    "name": "ipython",
    "version": 3
   },
   "file_extension": ".py",
   "mimetype": "text/x-python",
   "name": "python",
   "nbconvert_exporter": "python",
   "pygments_lexer": "ipython3",
   "version": "3.10.0"
  },
  "orig_nbformat": 4
 },
 "nbformat": 4,
 "nbformat_minor": 2
}
